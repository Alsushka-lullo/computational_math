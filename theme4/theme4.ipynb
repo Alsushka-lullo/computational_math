{
  "nbformat": 4,
  "nbformat_minor": 0,
  "metadata": {
    "colab": {
      "name": "theme4.ipynb",
      "provenance": []
    },
    "kernelspec": {
      "name": "python3",
      "display_name": "Python 3"
    },
    "language_info": {
      "name": "python"
    }
  },
  "cells": [
    {
      "cell_type": "code",
      "metadata": {
        "id": "_QlYLCRxC7u8"
      },
      "source": [
        "import numpy as np\n",
        "import matplotlib.pyplot as plt"
      ],
      "execution_count": null,
      "outputs": []
    },
    {
      "cell_type": "markdown",
      "metadata": {
        "id": "0clCj-ksDJAZ"
      },
      "source": [
        "# 12.4 б)"
      ]
    },
    {
      "cell_type": "code",
      "metadata": {
        "id": "916eaiJ_DIQj"
      },
      "source": [
        "def f(x):\n",
        "    return 3 * x + 4 * x**3 - 12* x**2 - 5"
      ],
      "execution_count": null,
      "outputs": []
    },
    {
      "cell_type": "code",
      "metadata": {
        "colab": {
          "base_uri": "https://localhost:8080/",
          "height": 265
        },
        "id": "3tO2y4NsDf4q",
        "outputId": "4cc73d82-0370-4489-931f-37a7895a9815"
      },
      "source": [
        "x = np.linspace(-2, 4, 1000)\n",
        "\n",
        "plt.plot(x, f(x))\n",
        "plt.plot(x, 0 * x, color=\"black\")\n",
        "plt.show()"
      ],
      "execution_count": null,
      "outputs": [
        {
          "output_type": "display_data",
          "data": {
            "image/png": "[encoded data removed]",
            "text/plain": [
              "<Figure size 432x288 with 1 Axes>"
            ]
          },
          "metadata": {
            "needs_background": "light"
          }
        }
      ]
    },
    {
      "cell_type": "markdown",
      "metadata": {
        "id": "5sTR4AUvGGGI"
      },
      "source": [
        "Кажется действительный корень только один - между 2.5 и 3.5."
      ]
    },
    {
      "cell_type": "markdown",
      "metadata": {
        "id": "yAqo582IHCfI"
      },
      "source": [
        "Воспользуемся методом Ньютона: $ x^{(n+1)} = \\varphi (x^{(n)})$\n",
        "\n",
        "$\\varphi (x) = x - \\dfrac{f(x)}{f'(x)}$\n",
        "\n",
        "$f'(x) = 3 + 12 x^2 - 24 x$\n",
        "\n"
      ]
    },
    {
      "cell_type": "code",
      "metadata": {
        "id": "d9dHWWCdHvVg"
      },
      "source": [
        "def phi(x):\n",
        "    return x - f(x) / (3 + 12 * x**2 - 24 * x)"
      ],
      "execution_count": null,
      "outputs": []
    },
    {
      "cell_type": "code",
      "metadata": {
        "colab": {
          "base_uri": "https://localhost:8080/"
        },
        "id": "h16OjCh-EgXF",
        "outputId": "580c8744-46e5-4583-ebb3-d754c1835d9f"
      },
      "source": [
        "err = 1\n",
        "x = 3\n",
        "while (err > 10e-6):\n",
        "    err = abs(x - phi(x))\n",
        "    x = phi(x)\n",
        "\n",
        "print(x)\n"
      ],
      "execution_count": null,
      "outputs": [
        {
          "output_type": "stream",
          "name": "stdout",
          "text": [
            "2.8901453858415\n"
          ]
        }
      ]
    },
    {
      "cell_type": "markdown",
      "metadata": {
        "id": "CXIhvl5aJGMN"
      },
      "source": [
        "Кажется сошлись)"
      ]
    },
    {
      "cell_type": "markdown",
      "metadata": {
        "id": "d-lbCTClJIx_"
      },
      "source": [
        "# 12.5 а)"
      ]
    },
    {
      "cell_type": "code",
      "metadata": {
        "id": "x1Sa5CzfH98z",
        "colab": {
          "base_uri": "https://localhost:8080/"
        },
        "outputId": "d0ca779f-d744-45be-e7a8-9f9d4d9dbedb"
      },
      "source": [
        "eps = 10 ** -3\n",
        "print(eps)"
      ],
      "execution_count": null,
      "outputs": [
        {
          "output_type": "stream",
          "name": "stdout",
          "text": [
            "0.001\n"
          ]
        }
      ]
    },
    {
      "cell_type": "markdown",
      "metadata": {
        "id": "0T9hwR8IJiCk"
      },
      "source": [
        "У нас две кривые:\n",
        "\n",
        "$y = \\sin(x+1) - 1.2$\n",
        "\n",
        "$x = 1 - \\dfrac{\\cos(y)}{2}$"
      ]
    },
    {
      "cell_type": "code",
      "metadata": {
        "id": "nv6c87NrJhkd"
      },
      "source": [
        "def f1(x):\n",
        "    return np.sin(x + 1) - 1.2\n",
        "\n",
        "def f2(y):\n",
        "    return 1 - np.cos(y) / 2"
      ],
      "execution_count": null,
      "outputs": []
    },
    {
      "cell_type": "code",
      "metadata": {
        "colab": {
          "base_uri": "https://localhost:8080/",
          "height": 265
        },
        "id": "ctGBd5CoKA4i",
        "outputId": "36ba3c8d-4865-4019-f9a7-cd74cb67514b"
      },
      "source": [
        "x = np.linspace(-3, 3, 1000)\n",
        "y = np.linspace(-3, 3, 1000)\n",
        "\n",
        "plt.plot(x, f1(x), color=\"red\", label=\"1\")\n",
        "plt.plot(f2(y), y, color=\"blue\", label=\"2\")\n",
        "plt.grid()\n",
        "plt.show()"
      ],
      "execution_count": null,
      "outputs": [
        {
          "output_type": "display_data",
          "data": {
            "image/png": "[encoded data removed]",
            "text/plain": [
              "<Figure size 432x288 with 1 Axes>"
            ]
          },
          "metadata": {
            "needs_background": "light"
          }
        }
      ]
    },
    {
      "cell_type": "markdown",
      "metadata": {
        "id": "SiRxfcYrLx5v"
      },
      "source": [
        "Координаты точки пересечения кривых $(x_0, y_0)$ удовлетворяют:\n",
        "\n",
        "$0 < x_0 < 1; \\ -1 < y_0 < 0$"
      ]
    },
    {
      "cell_type": "code",
      "metadata": {
        "colab": {
          "base_uri": "https://localhost:8080/"
        },
        "id": "ZPDDnLrpLxi3",
        "outputId": "7c761183-5ba1-4c8f-e51b-4f358dc5adea"
      },
      "source": [
        "x = 0.5\n",
        "while (abs(x - f2(f1(x))) > eps):\n",
        "    x = f2(f1(x))\n",
        "\n",
        "print(x, f1(x))"
      ],
      "execution_count": null,
      "outputs": [
        {
          "output_type": "stream",
          "name": "stdout",
          "text": [
            "0.5102170829878478 -0.20183436130206134\n"
          ]
        }
      ]
    }
  ]
}